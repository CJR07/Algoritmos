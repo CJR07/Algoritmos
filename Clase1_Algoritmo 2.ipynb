{
  "nbformat": 4,
  "nbformat_minor": 0,
  "metadata": {
    "colab": {
      "provenance": []
    },
    "kernelspec": {
      "name": "python3",
      "display_name": "Python 3"
    },
    "language_info": {
      "name": "python"
    }
  },
  "cells": [
    {
      "cell_type": "code",
      "execution_count": null,
      "metadata": {
        "id": "h8d5teCqoQZ1"
      },
      "outputs": [],
      "source": []
    },
    {
      "cell_type": "markdown",
      "source": [
        "# Introduccion a Python\n",
        "\n",
        "¡Hola! ¡Python es un gran lenguaje para aprender! Como estudiante, te resultará bastante útil.\n",
        "Aquí tienes una descripción general de Python:\n",
        "Python es un lenguaje de programación de alto nivel, interpretado y de propósito general. Es conocido por su sintaxis legible y su amplia gama de aplicaciones, lo que lo convierte en una opción popular tanto para principiantes como para desarrolladores experimentados.\n",
        "Estos son algunos puntos clave sobre Python:\n",
        "Interpretado: El código Python se ejecuta línea por línea, sin necesidad de compilación previa, lo que facilita la depuración y la experimentación.\n",
        "Tipado dinámico: No es necesario declarar explícitamente el tipo de una variable en Python. El intérprete lo infiere durante la ejecución.\n",
        "Multiplataforma: Python se puede ejecutar en varios sistemas operativos, como Windows, macOS y Linux.\n",
        "Amplia biblioteca estándar: Python incluye una amplia colección de módulos preconstruidos que brindan una amplia gama de funcionalidades.\n",
        "Gran comunidad: Python tiene una gran y activa comunidad de usuarios y desarrolladores, lo que significa que hay muchos recursos y soporte disponibles.\n"
      ],
      "metadata": {
        "id": "_-W0MhC3ofED"
      }
    },
    {
      "cell_type": "markdown",
      "source": [
        "## Objetos de Python\n",
        "### Numeros y Strings\n",
        "\n",
        "\n",
        "\n",
        "*   int, float\n",
        "*   str\n",
        "\n",
        "Nota: Latex\n",
        "La siguiente integral es de gran importancia\n",
        "\n",
        "$$\\int_{-\\infty}^{\\infty}e^{-\\frac{x^2}{2}}dx=\\sqrt{2\\pi}$$\n",
        "\n",
        "**operaciones basicas entre numeros**\n",
        "\n",
        "\n",
        "1.   $+,-$ suma y resta\n",
        "2.   $*,**$ multiplicacion y potenciacion\n",
        "3. $/,//$ division y division al piso (redondeada hacia abajo)\n",
        "4. $\\%$ operacion modular (residuo)\n",
        "\n",
        "Python tine funciones integradas\n",
        "\n",
        "\n",
        "1.   print\n",
        "2.   type\n",
        "\n",
        "\n",
        "\n",
        "\n",
        "\n",
        "\n",
        "\n"
      ],
      "metadata": {
        "id": "Pau9ND20p-iK"
      }
    },
    {
      "cell_type": "code",
      "source": [
        "#vamos a crear dos variables int\n",
        "x=5\n",
        "y=2"
      ],
      "metadata": {
        "id": "M6Ten7mJxaen"
      },
      "execution_count": null,
      "outputs": []
    },
    {
      "cell_type": "code",
      "source": [
        "print (\"Hola Mundo\")\n"
      ],
      "metadata": {
        "colab": {
          "base_uri": "https://localhost:8080/"
        },
        "id": "hNfSNgX4zTTt",
        "outputId": "1e43fb61-d27f-4113-b5ee-6ea4acfc9f20"
      },
      "execution_count": null,
      "outputs": [
        {
          "output_type": "stream",
          "name": "stdout",
          "text": [
            "Hola Mundo\n"
          ]
        }
      ]
    },
    {
      "cell_type": "code",
      "source": [
        "print(f\"el residuo de {x} entre {y} es {x%y}\")"
      ],
      "metadata": {
        "colab": {
          "base_uri": "https://localhost:8080/"
        },
        "id": "gcfrHEo30dvA",
        "outputId": "20b796c0-ee57-42a9-f0b2-f7f4ed5d9a64"
      },
      "execution_count": null,
      "outputs": [
        {
          "output_type": "stream",
          "name": "stdout",
          "text": [
            "el residuo de 5 entre 2 es 1\n"
          ]
        }
      ]
    },
    {
      "cell_type": "markdown",
      "source": [
        "##Listas\n",
        "una lista es el objeto de la forma\n",
        "\n",
        "$$Lista=[e_1,e_2,...,e_n]$$\n",
        "\n",
        "Cada elemento puede ser, a su vez, un objeto\n"
      ],
      "metadata": {
        "id": "HGTxLJulV5bm"
      }
    },
    {
      "cell_type": "code",
      "source": [
        "#vamos a crear una lista\n",
        "lista=[7,7.7,\"carlos\",[1,2,3]]"
      ],
      "metadata": {
        "id": "xPWGoK-dXj41"
      },
      "execution_count": null,
      "outputs": []
    },
    {
      "cell_type": "code",
      "source": [
        "type(lista)"
      ],
      "metadata": {
        "colab": {
          "base_uri": "https://localhost:8080/"
        },
        "id": "47d6U6wDZNIz",
        "outputId": "0855b9ad-99fe-4060-ccea-2d7f270c41ac"
      },
      "execution_count": null,
      "outputs": [
        {
          "output_type": "execute_result",
          "data": {
            "text/plain": [
              "list"
            ]
          },
          "metadata": {},
          "execution_count": 5
        }
      ]
    },
    {
      "cell_type": "markdown",
      "source": [
        "### Etiquetas en Python\n",
        "\n",
        "En Python existe una funcion que se llama range (a,b) en donde $a$ y $b$ son enteros mayores a 0. Aqui $a<b$"
      ],
      "metadata": {
        "id": "wjNKGOKuZa8f"
      }
    },
    {
      "cell_type": "code",
      "source": [
        "range(57)"
      ],
      "metadata": {
        "colab": {
          "base_uri": "https://localhost:8080/"
        },
        "id": "5sgako7uaWIc",
        "outputId": "dcd4a854-0ce7-48e2-ca30-491746b104e5"
      },
      "execution_count": null,
      "outputs": [
        {
          "output_type": "execute_result",
          "data": {
            "text/plain": [
              "range(0, 57)"
            ]
          },
          "metadata": {},
          "execution_count": 6
        }
      ]
    },
    {
      "cell_type": "code",
      "source": [
        "type (range(57)) #generador de etiquetas\n"
      ],
      "metadata": {
        "colab": {
          "base_uri": "https://localhost:8080/"
        },
        "id": "R9nD7CySalKC",
        "outputId": "b76aac4e-6494-4915-e448-fb54933c3393"
      },
      "execution_count": null,
      "outputs": [
        {
          "output_type": "execute_result",
          "data": {
            "text/plain": [
              "range"
            ]
          },
          "metadata": {},
          "execution_count": 7
        }
      ]
    },
    {
      "cell_type": "code",
      "source": [
        "for i in range(30):\n",
        "  print(i)"
      ],
      "metadata": {
        "colab": {
          "base_uri": "https://localhost:8080/"
        },
        "id": "yAVrNV2nbS1s",
        "outputId": "bd1aa1ee-9ee0-4a59-c70d-6405987ce564"
      },
      "execution_count": null,
      "outputs": [
        {
          "output_type": "stream",
          "name": "stdout",
          "text": [
            "0\n",
            "1\n",
            "2\n",
            "3\n",
            "4\n",
            "5\n",
            "6\n",
            "7\n",
            "8\n",
            "9\n",
            "10\n",
            "11\n",
            "12\n",
            "13\n",
            "14\n",
            "15\n",
            "16\n",
            "17\n",
            "18\n",
            "19\n",
            "20\n",
            "21\n",
            "22\n",
            "23\n",
            "24\n",
            "25\n",
            "26\n",
            "27\n",
            "28\n",
            "29\n"
          ]
        }
      ]
    },
    {
      "cell_type": "code",
      "source": [
        "len(lista) #LA funcion len(variable) cuenta el numero de elementos que tiene la lista"
      ],
      "metadata": {
        "colab": {
          "base_uri": "https://localhost:8080/"
        },
        "id": "FK3VNQZDgfyy",
        "outputId": "8220f5b9-2a2c-472a-91b2-d196bf4e13d8"
      },
      "execution_count": null,
      "outputs": [
        {
          "output_type": "execute_result",
          "data": {
            "text/plain": [
              "4"
            ]
          },
          "metadata": {},
          "execution_count": 9
        }
      ]
    },
    {
      "cell_type": "code",
      "source": [
        "lista[2], type(lista[2])"
      ],
      "metadata": {
        "colab": {
          "base_uri": "https://localhost:8080/"
        },
        "id": "rtAkoJWThZcI",
        "outputId": "7e92e52b-a7a4-4b2c-d759-3afff9a1b755"
      },
      "execution_count": null,
      "outputs": [
        {
          "output_type": "execute_result",
          "data": {
            "text/plain": [
              "('carlos', str)"
            ]
          },
          "metadata": {},
          "execution_count": 10
        }
      ]
    },
    {
      "cell_type": "code",
      "source": [
        "lista[1], type(lista[1])"
      ],
      "metadata": {
        "colab": {
          "base_uri": "https://localhost:8080/"
        },
        "id": "cYfmD-PjiEzD",
        "outputId": "6856c239-b01b-4b2f-d96f-45230abe9771"
      },
      "execution_count": null,
      "outputs": [
        {
          "output_type": "execute_result",
          "data": {
            "text/plain": [
              "(7.7, float)"
            ]
          },
          "metadata": {},
          "execution_count": 11
        }
      ]
    },
    {
      "cell_type": "code",
      "source": [
        "lista[0:2], type (lista[0:2])"
      ],
      "metadata": {
        "colab": {
          "base_uri": "https://localhost:8080/"
        },
        "id": "pe1tfLW8icac",
        "outputId": "60ca3015-5225-4c97-d14a-c207a314250b"
      },
      "execution_count": null,
      "outputs": [
        {
          "output_type": "execute_result",
          "data": {
            "text/plain": [
              "([7, 7.7], list)"
            ]
          },
          "metadata": {},
          "execution_count": 12
        }
      ]
    },
    {
      "cell_type": "code",
      "source": [
        "lista[3][2]"
      ],
      "metadata": {
        "colab": {
          "base_uri": "https://localhost:8080/"
        },
        "id": "pdP2gEZOi5Fi",
        "outputId": "0b3eca34-94e8-48a8-9563-4687289dbb59"
      },
      "execution_count": null,
      "outputs": [
        {
          "output_type": "execute_result",
          "data": {
            "text/plain": [
              "3"
            ]
          },
          "metadata": {},
          "execution_count": 13
        }
      ]
    },
    {
      "cell_type": "code",
      "source": [
        "type(lista[3][0])"
      ],
      "metadata": {
        "colab": {
          "base_uri": "https://localhost:8080/"
        },
        "id": "KrgWj2t_sHXk",
        "outputId": "9a8d2a42-45cd-4109-bd33-ea2ce69fed40"
      },
      "execution_count": null,
      "outputs": [
        {
          "output_type": "execute_result",
          "data": {
            "text/plain": [
              "int"
            ]
          },
          "metadata": {},
          "execution_count": 22
        }
      ]
    },
    {
      "cell_type": "markdown",
      "source": [
        "ALGUNOS ATRIBUTOS DE CODIGOS\n"
      ],
      "metadata": {
        "id": "zoF4tDyPtQR7"
      }
    },
    {
      "cell_type": "code",
      "source": [
        "lista.append(\"toby\")"
      ],
      "metadata": {
        "id": "3gFF8agdts5Q"
      },
      "execution_count": 29,
      "outputs": []
    },
    {
      "cell_type": "code",
      "source": [
        "lista"
      ],
      "metadata": {
        "colab": {
          "base_uri": "https://localhost:8080/"
        },
        "id": "O2mpCFcmt6ik",
        "outputId": "2a6f9001-cd93-41ea-e265-9e523fdd5621"
      },
      "execution_count": 30,
      "outputs": [
        {
          "output_type": "execute_result",
          "data": {
            "text/plain": [
              "[7, 7.7, 'carlos', [1, 2, 3], 'toby', 'toby', 'toby']"
            ]
          },
          "metadata": {},
          "execution_count": 30
        }
      ]
    },
    {
      "cell_type": "code",
      "source": [
        "lista.remove(\"toby\")"
      ],
      "metadata": {
        "id": "HfqjlMlHvMK8"
      },
      "execution_count": 32,
      "outputs": []
    },
    {
      "cell_type": "code",
      "source": [
        "lista"
      ],
      "metadata": {
        "colab": {
          "base_uri": "https://localhost:8080/"
        },
        "id": "z6a0mbx-va8p",
        "outputId": "28da0911-ee30-4d77-fb63-c3e339f82e69"
      },
      "execution_count": 33,
      "outputs": [
        {
          "output_type": "execute_result",
          "data": {
            "text/plain": [
              "[7, 7.7, 'carlos', [1, 2, 3], 'toby']"
            ]
          },
          "metadata": {},
          "execution_count": 33
        }
      ]
    },
    {
      "cell_type": "markdown",
      "source": [
        "$a\\in A$"
      ],
      "metadata": {
        "id": "_5habzAXweX5"
      }
    },
    {
      "cell_type": "code",
      "source": [
        "L=[x for x in range (21) ]\n",
        "#utilizar for para que nos de el rango hasta 20"
      ],
      "metadata": {
        "id": "iARm8FhfwLMG"
      },
      "execution_count": 62,
      "outputs": []
    },
    {
      "cell_type": "code",
      "source": [
        "L"
      ],
      "metadata": {
        "colab": {
          "base_uri": "https://localhost:8080/"
        },
        "id": "jjofD3Q-xG8F",
        "outputId": "991fd1cd-f506-4a94-b269-ec90857fd9a0"
      },
      "execution_count": 60,
      "outputs": [
        {
          "output_type": "execute_result",
          "data": {
            "text/plain": [
              "[0, 1, 2, 3, 4, 5, 6, 7, 8, 9, 10, 11, 12, 13, 14, 15, 16, 17, 18, 19, 20]"
            ]
          },
          "metadata": {},
          "execution_count": 60
        }
      ]
    },
    {
      "cell_type": "code",
      "source": [
        "M=[x for x in range(21) if x%3==0]\n",
        "M\n",
        "# utilizqmos for para que nos de el rango y if (condicional) para que cumpla lo del residuo y nos den los multiplos de 3"
      ],
      "metadata": {
        "colab": {
          "base_uri": "https://localhost:8080/"
        },
        "id": "qmYVH3HgxZNV",
        "outputId": "a8a391f3-67f1-4bda-eb33-e2503d3304d8"
      },
      "execution_count": 63,
      "outputs": [
        {
          "output_type": "execute_result",
          "data": {
            "text/plain": [
              "[0, 3, 6, 9, 12, 15, 18]"
            ]
          },
          "metadata": {},
          "execution_count": 63
        }
      ]
    },
    {
      "cell_type": "code",
      "source": [
        "L[0:6]\n",
        "# aqui funciono para que me diera los numeros dentro del rango 0y6"
      ],
      "metadata": {
        "colab": {
          "base_uri": "https://localhost:8080/"
        },
        "id": "OH_fA5hayu4d",
        "outputId": "c556d746-7d21-440c-e35a-af3486d3440b"
      },
      "execution_count": 67,
      "outputs": [
        {
          "output_type": "execute_result",
          "data": {
            "text/plain": [
              "[0, 1, 2, 3, 4, 5]"
            ]
          },
          "metadata": {},
          "execution_count": 67
        }
      ]
    },
    {
      "cell_type": "code",
      "source": [
        "L[0::20]\n",
        "#aqui me dan los dos extremos de la lista"
      ],
      "metadata": {
        "colab": {
          "base_uri": "https://localhost:8080/"
        },
        "id": "uL4thWU6y4-w",
        "outputId": "a1df86ce-53d2-4afd-8ec3-0ec27b044185"
      },
      "execution_count": 66,
      "outputs": [
        {
          "output_type": "execute_result",
          "data": {
            "text/plain": [
              "[0, 20]"
            ]
          },
          "metadata": {},
          "execution_count": 66
        }
      ]
    }
  ]
}