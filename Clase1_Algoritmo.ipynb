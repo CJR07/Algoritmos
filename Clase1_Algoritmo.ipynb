{
  "nbformat": 4,
  "nbformat_minor": 0,
  "metadata": {
    "colab": {
      "provenance": []
    },
    "kernelspec": {
      "name": "python3",
      "display_name": "Python 3"
    },
    "language_info": {
      "name": "python"
    }
  },
  "cells": [
    {
      "cell_type": "code",
      "execution_count": 3,
      "metadata": {
        "id": "h8d5teCqoQZ1"
      },
      "outputs": [],
      "source": []
    },
    {
      "cell_type": "markdown",
      "source": [
        "# Introduccion a Python\n",
        "\n",
        "¡Hola! ¡Python es un gran lenguaje para aprender! Como estudiante, te resultará bastante útil.\n",
        "Aquí tienes una descripción general de Python:\n",
        "Python es un lenguaje de programación de alto nivel, interpretado y de propósito general. Es conocido por su sintaxis legible y su amplia gama de aplicaciones, lo que lo convierte en una opción popular tanto para principiantes como para desarrolladores experimentados.\n",
        "Estos son algunos puntos clave sobre Python:\n",
        "Interpretado: El código Python se ejecuta línea por línea, sin necesidad de compilación previa, lo que facilita la depuración y la experimentación.\n",
        "Tipado dinámico: No es necesario declarar explícitamente el tipo de una variable en Python. El intérprete lo infiere durante la ejecución.\n",
        "Multiplataforma: Python se puede ejecutar en varios sistemas operativos, como Windows, macOS y Linux.\n",
        "Amplia biblioteca estándar: Python incluye una amplia colección de módulos preconstruidos que brindan una amplia gama de funcionalidades.\n",
        "Gran comunidad: Python tiene una gran y activa comunidad de usuarios y desarrolladores, lo que significa que hay muchos recursos y soporte disponibles.\n"
      ],
      "metadata": {
        "id": "_-W0MhC3ofED"
      }
    },
    {
      "cell_type": "markdown",
      "source": [
        "## Objetos de Python\n",
        "### Numeros y Strings\n",
        "\n",
        "\n",
        "\n",
        "*   int, float\n",
        "*   str\n",
        "\n",
        "Nota: Latex\n",
        "La siguiente integral es de gran importancia\n",
        "\n",
        "$$\\int_{-\\infty}^{\\infty}e^{-\\frac{x^2}{2}}dx=\\sqrt{2\\pi}$$\n",
        "\n",
        "**operaciones basicas entre numeros**\n",
        "\n",
        "\n",
        "1.   $+,-$ suma y resta\n",
        "2.   $*,**$ multiplicacion y potenciacion\n",
        "3. $/,//$ division y division al piso (redondeada hacia abajo)\n",
        "4. $\\%$ operacion modular (residuo)\n",
        "\n",
        "Python tine funciones integradas\n",
        "\n",
        "\n",
        "1.   print\n",
        "2.   type\n",
        "\n",
        "\n",
        "\n",
        "\n",
        "\n",
        "\n",
        "\n"
      ],
      "metadata": {
        "id": "Pau9ND20p-iK"
      }
    },
    {
      "cell_type": "code",
      "source": [
        "#vamos a crear dos variables int\n",
        "x=5\n",
        "y=2"
      ],
      "metadata": {
        "id": "M6Ten7mJxaen"
      },
      "execution_count": 4,
      "outputs": []
    },
    {
      "cell_type": "code",
      "source": [
        "print (\"Hola Mundo\")\n"
      ],
      "metadata": {
        "colab": {
          "base_uri": "https://localhost:8080/"
        },
        "id": "hNfSNgX4zTTt",
        "outputId": "3e663553-10ef-40d0-f3e6-a8a6793c80fe"
      },
      "execution_count": 5,
      "outputs": [
        {
          "output_type": "stream",
          "name": "stdout",
          "text": [
            "Hola Mundo\n"
          ]
        }
      ]
    },
    {
      "cell_type": "code",
      "source": [
        "print(f\"el residuo de {x} entre {y} es {x%y}\")"
      ],
      "metadata": {
        "colab": {
          "base_uri": "https://localhost:8080/"
        },
        "id": "gcfrHEo30dvA",
        "outputId": "9719616a-b6f2-4a03-91b6-8bc3bdaf6f0a"
      },
      "execution_count": 6,
      "outputs": [
        {
          "output_type": "stream",
          "name": "stdout",
          "text": [
            "el residuo de 5 entre 2 es 1\n"
          ]
        }
      ]
    },
    {
      "cell_type": "markdown",
      "source": [
        "##Listas\n",
        "una lista es el objeto de la forma\n",
        "\n",
        "$$Lista=[e_1,e_2,...,e_n]$$\n",
        "\n",
        "Cada elemento puede ser, a su vez, un objeto\n"
      ],
      "metadata": {
        "id": "HGTxLJulV5bm"
      }
    },
    {
      "cell_type": "code",
      "source": [
        "#vamos a crear una lista\n",
        "lista=[7,7.7,\"carlos\",[1,2,3]]"
      ],
      "metadata": {
        "id": "xPWGoK-dXj41"
      },
      "execution_count": 7,
      "outputs": []
    },
    {
      "cell_type": "code",
      "source": [
        "type(lista)"
      ],
      "metadata": {
        "colab": {
          "base_uri": "https://localhost:8080/"
        },
        "id": "47d6U6wDZNIz",
        "outputId": "f6ea682f-b665-460c-b755-97dbba6c5b2e"
      },
      "execution_count": 8,
      "outputs": [
        {
          "output_type": "execute_result",
          "data": {
            "text/plain": [
              "list"
            ]
          },
          "metadata": {},
          "execution_count": 8
        }
      ]
    },
    {
      "cell_type": "markdown",
      "source": [
        "### Etiquetas en Python\n",
        "\n",
        "En Python existe una funcion que se llama range (a,b) en donde $a$ y $b$ son enteros mayores a 0. Aqui $a<b$"
      ],
      "metadata": {
        "id": "wjNKGOKuZa8f"
      }
    },
    {
      "cell_type": "code",
      "source": [
        "range(57)"
      ],
      "metadata": {
        "colab": {
          "base_uri": "https://localhost:8080/"
        },
        "id": "5sgako7uaWIc",
        "outputId": "5e5dd352-abcc-414a-d785-e34bb77e2726"
      },
      "execution_count": 9,
      "outputs": [
        {
          "output_type": "execute_result",
          "data": {
            "text/plain": [
              "range(0, 57)"
            ]
          },
          "metadata": {},
          "execution_count": 9
        }
      ]
    },
    {
      "cell_type": "code",
      "source": [
        "type (range(57)) #generador de etiquetas\n"
      ],
      "metadata": {
        "colab": {
          "base_uri": "https://localhost:8080/"
        },
        "id": "R9nD7CySalKC",
        "outputId": "e82b61fa-f579-4c80-8cb3-c8c2b56a016f"
      },
      "execution_count": 10,
      "outputs": [
        {
          "output_type": "execute_result",
          "data": {
            "text/plain": [
              "range"
            ]
          },
          "metadata": {},
          "execution_count": 10
        }
      ]
    },
    {
      "cell_type": "code",
      "source": [
        "for i in range(30):\n",
        "  print(i)"
      ],
      "metadata": {
        "colab": {
          "base_uri": "https://localhost:8080/"
        },
        "id": "yAVrNV2nbS1s",
        "outputId": "c640fb7b-31a7-418b-a91e-37fc4065fb60"
      },
      "execution_count": 12,
      "outputs": [
        {
          "output_type": "stream",
          "name": "stdout",
          "text": [
            "0\n",
            "1\n",
            "2\n",
            "3\n",
            "4\n",
            "5\n",
            "6\n",
            "7\n",
            "8\n",
            "9\n",
            "10\n",
            "11\n",
            "12\n",
            "13\n",
            "14\n",
            "15\n",
            "16\n",
            "17\n",
            "18\n",
            "19\n",
            "20\n",
            "21\n",
            "22\n",
            "23\n",
            "24\n",
            "25\n",
            "26\n",
            "27\n",
            "28\n",
            "29\n"
          ]
        }
      ]
    },
    {
      "cell_type": "code",
      "source": [
        "len(lista) #LA funcion len(variable) cuenta el numero de elementos que tiene la lista"
      ],
      "metadata": {
        "colab": {
          "base_uri": "https://localhost:8080/"
        },
        "id": "FK3VNQZDgfyy",
        "outputId": "7f013fc7-5f8d-48cf-e244-af580240380f"
      },
      "execution_count": 17,
      "outputs": [
        {
          "output_type": "execute_result",
          "data": {
            "text/plain": [
              "4"
            ]
          },
          "metadata": {},
          "execution_count": 17
        }
      ]
    },
    {
      "cell_type": "code",
      "source": [
        "lista[2], type(lista[2])"
      ],
      "metadata": {
        "colab": {
          "base_uri": "https://localhost:8080/"
        },
        "id": "rtAkoJWThZcI",
        "outputId": "e92f1424-9fd4-4920-eb88-3b174506ef16"
      },
      "execution_count": 21,
      "outputs": [
        {
          "output_type": "execute_result",
          "data": {
            "text/plain": [
              "('carlos', str)"
            ]
          },
          "metadata": {},
          "execution_count": 21
        }
      ]
    },
    {
      "cell_type": "code",
      "source": [
        "lista[1], type(lista[1])"
      ],
      "metadata": {
        "colab": {
          "base_uri": "https://localhost:8080/"
        },
        "id": "cYfmD-PjiEzD",
        "outputId": "c1814d00-2d7e-4dd8-bf98-6906198944bd"
      },
      "execution_count": 23,
      "outputs": [
        {
          "output_type": "execute_result",
          "data": {
            "text/plain": [
              "(7.7, float)"
            ]
          },
          "metadata": {},
          "execution_count": 23
        }
      ]
    },
    {
      "cell_type": "code",
      "source": [
        "lista[0:2], type (lista[0:2])"
      ],
      "metadata": {
        "colab": {
          "base_uri": "https://localhost:8080/"
        },
        "id": "pe1tfLW8icac",
        "outputId": "9c00549f-b1ad-499c-dd2e-5b129bbab7f3"
      },
      "execution_count": 26,
      "outputs": [
        {
          "output_type": "execute_result",
          "data": {
            "text/plain": [
              "([7, 7.7], list)"
            ]
          },
          "metadata": {},
          "execution_count": 26
        }
      ]
    },
    {
      "cell_type": "code",
      "source": [
        "lista[3][2]"
      ],
      "metadata": {
        "colab": {
          "base_uri": "https://localhost:8080/"
        },
        "id": "pdP2gEZOi5Fi",
        "outputId": "c8576f56-0679-4891-97ae-34f4a75800f2"
      },
      "execution_count": 28,
      "outputs": [
        {
          "output_type": "execute_result",
          "data": {
            "text/plain": [
              "3"
            ]
          },
          "metadata": {},
          "execution_count": 28
        }
      ]
    }
  ]
}